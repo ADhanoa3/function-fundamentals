{
 "cells": [
  {
   "cell_type": "markdown",
   "metadata": {},
   "source": [
    "# Task 1"
   ]
  },
  {
   "cell_type": "code",
   "execution_count": 1,
   "metadata": {},
   "outputs": [],
   "source": [
    "# Task: Represent common single-variable mathematical functions in Python.\n",
    "\n",
    "# 1. Define a function called linear_function that represents the linear function f(x) = 2x+3."
   ]
  },
  {
   "cell_type": "code",
   "execution_count": 2,
   "metadata": {},
   "outputs": [],
   "source": [
    "# 2. Define a function called constant_function that represents the constant function g(x) = 4."
   ]
  },
  {
   "cell_type": "code",
   "execution_count": 3,
   "metadata": {},
   "outputs": [],
   "source": [
    "# 3. Define a function called exponential_function that represents the exponential function h(x) = 2^x."
   ]
  },
  {
   "cell_type": "code",
   "execution_count": 4,
   "metadata": {},
   "outputs": [],
   "source": [
    "# 4. Use a built-in command to define a function called absolute_value that represents the absolute value function k(x)=|x|."
   ]
  },
  {
   "cell_type": "markdown",
   "metadata": {},
   "source": [
    "# Task 2"
   ]
  },
  {
   "cell_type": "code",
   "execution_count": 5,
   "metadata": {},
   "outputs": [],
   "source": [
    "# Task: Represent common multi-variable mathematical functions in Python.\n",
    "\n",
    "# 1. Define a function called average_value that takes in two numerical inputs and outputs their average."
   ]
  },
  {
   "cell_type": "code",
   "execution_count": 6,
   "metadata": {},
   "outputs": [],
   "source": [
    "# 2. Define a function called max_of_three that takes in three numerical inputs and outputs the maximum value."
   ]
  },
  {
   "cell_type": "code",
   "execution_count": 7,
   "metadata": {},
   "outputs": [],
   "source": [
    "# 3. Define a function called min_of_three that takes in three numerical inputs and outputs the minimum value."
   ]
  },
  {
   "cell_type": "code",
   "execution_count": 8,
   "metadata": {},
   "outputs": [],
   "source": [
    "# 4. Define a function called midrange that takes in three numerical inputs and outputs the average of the maximum\n",
    "# and minimum values. This function should call the functions created in tasks 1 - 3."
   ]
  },
  {
   "cell_type": "markdown",
   "metadata": {},
   "source": [
    "# Task 3"
   ]
  },
  {
   "cell_type": "code",
   "execution_count": 9,
   "metadata": {},
   "outputs": [],
   "source": [
    "# Task: Represent functions with non-numerical parameters.\n",
    "\n",
    "# 1. Define a function called first_element that takes in a list and outputs its first element."
   ]
  },
  {
   "cell_type": "code",
   "execution_count": 10,
   "metadata": {},
   "outputs": [],
   "source": [
    "# 2. Define a function called last_element that takes in a list and outputs its last element."
   ]
  },
  {
   "cell_type": "code",
   "execution_count": 11,
   "metadata": {},
   "outputs": [],
   "source": [
    "# 3. Define a function called first_last_sum that takes in a list and outputs the sum of\n",
    "# the first and last element. The function should call the functions in tasks 1-2."
   ]
  },
  {
   "cell_type": "code",
   "execution_count": 12,
   "metadata": {},
   "outputs": [],
   "source": [
    "# 4. Define a function called distance_from_origin that takes in a tuple representing a point\n",
    "# in the xy-coordinate plane and outputs its distance from the origin."
   ]
  },
  {
   "cell_type": "code",
   "execution_count": 13,
   "metadata": {},
   "outputs": [],
   "source": [
    "# 5. Define a function called distance_between that takes in two tuples representing points\n",
    "# in the xy-coordinate plane and outputs their distance from each other."
   ]
  }
 ],
 "metadata": {
  "kernelspec": {
   "display_name": "Python 3",
   "language": "python",
   "name": "python3"
  },
  "language_info": {
   "codemirror_mode": {
    "name": "ipython",
    "version": 3
   },
   "file_extension": ".py",
   "mimetype": "text/x-python",
   "name": "python",
   "nbconvert_exporter": "python",
   "pygments_lexer": "ipython3",
   "version": "3.12.1"
  }
 },
 "nbformat": 4,
 "nbformat_minor": 2
}
